{
  "metadata": {
    "kernelspec": {
      "name": "python",
      "display_name": "Python (Pyodide)",
      "language": "python"
    },
    "language_info": {
      "codemirror_mode": {
        "name": "python",
        "version": 3
      },
      "file_extension": ".py",
      "mimetype": "text/x-python",
      "name": "python",
      "nbconvert_exporter": "python",
      "pygments_lexer": "ipython3",
      "version": "3.8"
    }
  },
  "nbformat_minor": 4,
  "nbformat": 4,
  "cells": [
    {
      "cell_type": "code",
      "source": "import pandas as pd\nimport numpy as np\nimport matplotlib.pyplot as plt\n\ni = 0\nj = 1\nx = 0\ny = 0\n\nveri = {\n    'Yoğunluk': [100, 101, 102, 103, 104, 105, 106, 107, 108, 109, 110, 140, 141, 142, 143, 144, 145, 146, 147, 148, 149, 150],\n    'Sayi': [12, 18, 32, 48, 52, 65, 55, 42, 32, 16, 10, 5, 18, 25, 32, 40, 65, 43, 32, 20, 10, 4]\n}\n\ndf = pd.DataFrame(veri)\n\n\nmin_yogunluk = df['Yoğunluk'][0]\nmax_yogunluk = df['Yoğunluk'][0]\n\nwhile i < len(df['Yoğunluk']):\n    if df['Yoğunluk'][i] < min_yogunluk:\n        min_yogunluk = df['Yoğunluk'][i]\n    if df['Yoğunluk'][i] > max_yogunluk:\n        max_yogunluk = df['Yoğunluk'][i]\n    i += 1",
      "metadata": {
        "trusted": true
      },
      "outputs": [],
      "execution_count": null
    },
    {
      "cell_type": "code",
      "source": "pikseller = []\nfor index, row in df.iterrows():\n    pikseller.extend([row['Yoğunluk']] * row['Sayi'])\npikseller = np.array(pikseller)\nT0 = np.mean(pikseller)\nesik = 0.5",
      "metadata": {
        "trusted": true
      },
      "outputs": [],
      "execution_count": null
    },
    {
      "cell_type": "code",
      "source": "while True:\n    G1 = pikseller[pikseller > T0]\n    G2 = pikseller[pikseller <= T0]\n    m1 = np.mean(G1) if len(G1) > 0 else 0\n    m2 = np.mean(G2) if len(G2) > 0 else 0\n    T1 = (m1 + m2) / 2\n    if abs(T1 - T0) < esik:\n        break\n\n    T0 = T1",
      "metadata": {
        "trusted": true
      },
      "outputs": [],
      "execution_count": null
    },
    {
      "cell_type": "code",
      "source": "print(f\"Optimum Eşik Değeri: {T0}\")\n\nG1_sayi = len(pikseller[pikseller > T0])\nG2_sayi = len(pikseller[pikseller <= T0])\n\nprint(f\"Eşik üstündeki piksel sayisi: {G1_sayi}\")\nprint(f\"Eşik altindaki veya eşit piksel sayisi: {G2_sayi}\")",
      "metadata": {
        "trusted": true
      },
      "outputs": [],
      "execution_count": null
    },
    {
      "cell_type": "code",
      "source": "plt.hist(pikseller, bins=range(min_yogunluk,max_yogunluk), edgecolor='blue')\nplt.axvline(T0, color='blue', linestyle='dashed', linewidth=1)\nplt.title('Eşikli Piksel Yoğunluğu Histogrami')\nplt.xlabel('Yoğunluk')\nplt.ylabel('Frekans')\nplt.show()\n",
      "metadata": {
        "trusted": true
      },
      "outputs": [],
      "execution_count": null
    }
  ]
}