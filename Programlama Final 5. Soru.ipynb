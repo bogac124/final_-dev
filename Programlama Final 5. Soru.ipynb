{
  "cells": [
    {
      "cell_type": "code",
      "execution_count": null,
      "metadata": {
        "trusted": true
      },
      "outputs": [],
      "source": [
        "import pandas as pd\n",
        "import numpy as np\n",
        "import matplotlib.pyplot as plt\n",
        "\n",
        "\n",
        "histogram_data = {\n",
        "    100: 12, 101: 18, 102: 32, 103: 48, 104: 52, 105: 65, 106: 55, 107: 42, 108: 32, 109: 16,\n",
        "    110: 10, 140: 5, 141: 18, 142: 25, 143: 32, 144: 40, 145: 65, 146: 43, 147: 32, 148: 20, 149: 10, 150: 4\n",
        "}\n",
        "\n",
        "\n",
        "intensity_values = np.array(list(histogram_data.keys()))\n",
        "pixel_counts = np.array(list(histogram_data.values()))\n",
        "\n",
        "\n",
        "total_pixels = np.sum(pixel_counts)\n",
        "\n",
        "\n",
        "pdf = pixel_counts / total_pixels\n",
        "\n",
        "\n",
        "cdf = np.cumsum(pdf)\n",
        "\n",
        "\n",
        "within_class_variance = np.zeros_like(intensity_values, dtype=float)\n",
        "for i, t in enumerate(intensity_values):\n",
        "    \n",
        "    p1 = cdf[i]\n",
        "    p2 = 1 - p1\n",
        "\n",
        "    \n",
        "    mu1 = np.sum(intensity_values[:i + 1] * pdf[:i + 1]) / p1 if p1 > 0 else 0\n",
        "    mu2 = np.sum(intensity_values[i + 1:] * pdf[i + 1:]) / p2 if p2 > 0 else 0\n",
        "\n",
        "    \n",
        "    var1 = np.sum(((intensity_values[:i + 1] - mu1) ** 2) * pdf[:i + 1]) / p1 if p1 > 0 else 0\n",
        "    var2 = np.sum(((intensity_values[i + 1:] - mu2) ** 2) * pdf[i + 1:]) / p2 if p2 > 0 else 0\n",
        "\n",
        "   \n",
        "    within_class_variance[i] = p1 * var1 + p2 * var2\n",
        "\n"
      ]
    },
    {
      "cell_type": "code",
      "execution_count": null,
      "metadata": {
        "trusted": true
      },
      "outputs": [],
      "source": [
        "optimal_threshold = intensity_values[np.argmin(within_class_variance)]\n",
        "print(f\"Optimal Otsu Threshold: {optimal_threshold}\")\n",
        "\n",
        "\n",
        "file_path = 'c:\\\\Users\\\\kralb\\\\OneDrive\\\\Masaüstü\\\\Proglama Final ödevi\\\\matriks dosyasi\\\\soru1_2_data.xlsx'\n",
        "data = pd.read_excel(file_path, header=None)\n"
      ]
    },
    {
      "cell_type": "code",
      "execution_count": null,
      "metadata": {
        "trusted": true
      },
      "outputs": [],
      "source": [
        "matrix_data = data.values\n",
        "\n",
        "binary_matrix_data = (matrix_data >= optimal_threshold).astype(int)\n",
        "\n",
        "fig, ax = plt.subplots(1, 2, figsize=(12, 6))\n",
        "ax[0].imshow(matrix_data, cmap='gray')\n",
        "ax[0].set_title('Original Gray Scale Image')\n",
        "ax[1].imshow(binary_matrix_data, cmap='gray')\n",
        "ax[1].set_title('Binary Image after Otsu Thresholding')\n",
        "plt.show()"
      ]
    },
    {
      "cell_type": "code",
      "execution_count": null,
      "metadata": {
        "trusted": true
      },
      "outputs": [],
      "source": [
        "threshold_value = optimal_threshold\n",
        "background_pixels_data = pixel_counts[intensity_values <= threshold_value]\n",
        "foreground_pixels_data = pixel_counts[intensity_values > threshold_value]\n",
        "\n",
        "\n",
        "background_weight = np.sum(background_pixels_data) / total_pixels\n",
        "background_mean = np.sum(intensity_values[intensity_values <= threshold_value] * background_pixels_data) / np.sum(\n",
        "    background_pixels_data)\n",
        "background_variance = np.sum(\n",
        "    ((intensity_values[intensity_values <= threshold_value] - background_mean) ** 2) * background_pixels_data) / np.sum(\n",
        "    background_pixels_data)\n",
        "\n",
        "\n",
        "foreground_weight = np.sum(foreground_pixels_data) / total_pixels\n",
        "foreground_mean = np.sum(intensity_values[intensity_values > threshold_value] * foreground_pixels_data) / np.sum(\n",
        "    foreground_pixels_data)\n",
        "foreground_variance = np.sum(\n",
        "    ((intensity_values[intensity_values > threshold_value] - foreground_mean) ** 2) * foreground_pixels_data) / np.sum(\n",
        "    foreground_pixels_data)\n",
        "\n",
        "print(f\"Background Weight (Wb): {background_weight}\")\n",
        "print(f\"Background Mean (Mb): {background_mean}\")\n",
        "print(f\"Background Variance (Vb): {background_variance}\")\n",
        "print(f\"Foreground Weight (Wf): {foreground_weight}\")\n",
        "print(f\"Foreground Mean (Mf): {foreground_mean}\")\n",
        "print(f\"Foreground Variance (Vf): {foreground_variance}\")"
      ]
    },
    {
      "cell_type": "code",
      "execution_count": null,
      "metadata": {
        "trusted": true
      },
      "outputs": [],
      "source": [
        "fig, axs = plt.subplots(2, 2, figsize=(12, 12))\n",
        "axs[0, 0].bar(intensity_values, pixel_counts)\n",
        "axs[0, 0].set_title('Histogram')\n",
        "axs[0, 1].imshow(matrix_data, cmap='gray')\n",
        "axs[0, 1].set_title('Original Gray Scale Image')\n",
        "axs[1, 0].bar(intensity_values[intensity_values <= threshold_value], background_pixels_data)\n",
        "axs[1, 0].set_title('Background Histogram')\n",
        "axs[1, 1].bar(intensity_values[intensity_values > threshold_value], foreground_pixels_data)\n",
        "axs[1, 1].set_title('Foreground Histogram')\n",
        "plt.show()"
      ]
    },
    {
      "cell_type": "code",
      "execution_count": null,
      "metadata": {
        "trusted": true
      },
      "outputs": [],
      "source": [
        "plt.figure(figsize=(10, 6))\n",
        "plt.plot(intensity_values, within_class_variance, label='Within Class Variance')\n",
        "plt.axvline(x=optimal_threshold, color='r', linestyle='--', label=f'Optimal Threshold = {optimal_threshold}')\n",
        "plt.xlabel('Intensity Value')\n",
        "plt.ylabel('Within Class Variance')\n",
        "plt.title('Within Class Variance for Each Threshold')\n",
        "plt.legend()\n",
        "plt.show()\n"
      ]
    }
  ],
  "metadata": {
    "kernelspec": {
      "display_name": "Python (Pyodide)",
      "language": "python",
      "name": "python"
    },
    "language_info": {
      "codemirror_mode": {
        "name": "python",
        "version": 3
      },
      "file_extension": ".py",
      "mimetype": "text/x-python",
      "name": "python",
      "nbconvert_exporter": "python",
      "pygments_lexer": "ipython3",
      "version": "3.8"
    }
  },
  "nbformat": 4,
  "nbformat_minor": 4
}
